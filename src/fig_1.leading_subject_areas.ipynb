{
 "cells": [
  {
   "cell_type": "code",
   "execution_count": null,
   "metadata": {},
   "outputs": [],
   "source": [
    "from techminer2.database.metrics.performance import DataFrame  # type: ignore\n",
    "\n",
    "\n",
    "frame = (\n",
    "    DataFrame()\n",
    "    #\n",
    "    # FIELD:\n",
    "    .with_field(\"subject_areas\")\n",
    "    .having_terms_in_top(None)\n",
    "    .having_terms_ordered_by(\"OCC\")\n",
    "    .having_term_occurrences_between(None, None)\n",
    "    .having_term_citations_between(None, None)\n",
    "    .having_terms_in(None)\n",
    "    #\n",
    "    # DATABASE:\n",
    "    .where_root_directory_is(\"../\")\n",
    "    .where_database_is(\"main\")\n",
    "    .where_record_years_range_is(None, None)\n",
    "    .where_record_citations_range_is(None, None)\n",
    "    #\n",
    "    .run()\n",
    ")\n",
    "\n",
    "frame[\"percentage\"] = frame[\"OCC\"] / 15286.0 * 100\n",
    "frame[\"percentage\"] = frame[\"percentage\"].map(lambda x: \"{:2.1f}%\".format(x))\n",
    "frame = frame[[\"OCC\", \"percentage\", \"global_citations\", \"local_citations\"]]\n",
    "frame"
   ]
  },
  {
   "cell_type": "code",
   "execution_count": null,
   "metadata": {},
   "outputs": [],
   "source": [
    "from techminer2.database.metrics.records import DataFrame # type: ignore\n",
    "\n",
    "\n",
    "for subject_area in frame.index:\n",
    "\n",
    "    frame_by_area = (\n",
    "        DataFrame()\n",
    "        #\n",
    "        .where_root_directory_is(\"../\")\n",
    "        .where_database_is(\"main\")\n",
    "        .where_record_years_range_is(None, None)\n",
    "        .where_record_citations_range_is(None, None)\n",
    "        .where_records_match(\n",
    "            {\n",
    "                \"subject_areas\": [subject_area],\n",
    "            }\n",
    "        )\n",
    "        .where_records_ordered_by(\"global_cited_by_highest\")\n",
    "        .run()\n",
    "    )\n",
    "\n",
    "\n",
    "    print(subject_area, frame_by_area.shape[0])"
   ]
  },
  {
   "cell_type": "code",
   "execution_count": 1,
   "metadata": {},
   "outputs": [
    {
     "name": "stdout",
     "output_type": "stream",
     "text": [
      "Note: to be able to use all crisp methods, you need to install some additional packages:  {'wurlitzer', 'infomap', 'graph_tool', 'bayanpy'}\n",
      "Note: to be able to use all crisp methods, you need to install some additional packages:  {'pyclustering', 'ASLPAw'}\n",
      "Note: to be able to use all crisp methods, you need to install some additional packages:  {'wurlitzer', 'infomap'}\n"
     ]
    },
    {
     "data": {
      "application/vnd.plotly.v1+json": {
       "config": {
        "plotlyServerURL": "https://plot.ly"
       },
       "data": [
        {
         "hoverinfo": "none",
         "line": {
          "color": "#7793a5",
          "dash": "dash",
          "width": 1
         },
         "mode": "lines",
         "type": "scatter",
         "x": [
          -0.15824488227712552,
          0.008891607281970098
         ],
         "y": [
          0.06237283299538612,
          -0.06344290952814793
         ]
        },
        {
         "hoverinfo": "none",
         "line": {
          "color": "#7793a5",
          "dash": "dot",
          "width": 1
         },
         "mode": "lines",
         "type": "scatter",
         "x": [
          -0.15824488227712552,
          -0.29212066349649546
         ],
         "y": [
          0.06237283299538612,
          -0.6870841402151037
         ]
        },
        {
         "hoverinfo": "none",
         "line": {
          "color": "#7793a5",
          "dash": "dot",
          "width": 1
         },
         "mode": "lines",
         "type": "scatter",
         "x": [
          -0.15824488227712552,
          -1
         ],
         "y": [
          0.06237283299538612,
          -0.09699587422722186
         ]
        },
        {
         "hoverinfo": "none",
         "line": {
          "color": "#7793a5",
          "dash": "dot",
          "width": 1
         },
         "mode": "lines",
         "type": "scatter",
         "x": [
          -0.15824488227712552,
          0.548619816657047
         ],
         "y": [
          0.06237283299538612,
          0.7623538068826216
         ]
        },
        {
         "hoverinfo": "none",
         "line": {
          "color": "#7793a5",
          "dash": "dot",
          "width": 1
         },
         "mode": "lines",
         "type": "scatter",
         "x": [
          -0.15824488227712552,
          0.8175090087961129
         ],
         "y": [
          0.06237283299538612,
          -0.46123426501775866
         ]
        },
        {
         "hoverinfo": "none",
         "line": {
          "color": "#7793a5",
          "dash": "dot",
          "width": 1
         },
         "mode": "lines",
         "type": "scatter",
         "x": [
          -0.15824488227712552,
          -0.1175653780384751
         ],
         "y": [
          0.06237283299538612,
          0.8239154761517935
         ]
        },
        {
         "hoverinfo": "none",
         "line": {
          "color": "#7793a5",
          "dash": "dot",
          "width": 1
         },
         "mode": "lines",
         "type": "scatter",
         "x": [
          -0.15824488227712552,
          0.7134709583353612
         ],
         "y": [
          0.06237283299538612,
          -0.8168039811594249
         ]
        },
        {
         "hoverinfo": "none",
         "line": {
          "color": "#7793a5",
          "dash": "dot",
          "width": 1
         },
         "mode": "lines",
         "type": "scatter",
         "x": [
          0.24228841186751363,
          0.008891607281970098
         ],
         "y": [
          -0.09428175592468697,
          -0.06344290952814793
         ]
        },
        {
         "hoverinfo": "none",
         "line": {
          "color": "#7793a5",
          "dash": "dot",
          "width": 1
         },
         "mode": "lines",
         "type": "scatter",
         "x": [
          0.24228841186751363,
          -0.29212066349649546
         ],
         "y": [
          -0.09428175592468697,
          -0.6870841402151037
         ]
        },
        {
         "hoverinfo": "none",
         "line": {
          "color": "#7793a5",
          "dash": "dot",
          "width": 1
         },
         "mode": "lines",
         "type": "scatter",
         "x": [
          0.24228841186751363,
          -0.26138707187988725
         ],
         "y": [
          -0.09428175592468697,
          -0.23201907118263188
         ]
        },
        {
         "hoverinfo": "none",
         "line": {
          "color": "#7793a5",
          "dash": "dot",
          "width": 1
         },
         "mode": "lines",
         "type": "scatter",
         "x": [
          0.24228841186751363,
          -1
         ],
         "y": [
          -0.09428175592468697,
          -0.09699587422722186
         ]
        },
        {
         "hoverinfo": "none",
         "line": {
          "color": "#7793a5",
          "dash": "dot",
          "width": 1
         },
         "mode": "lines",
         "type": "scatter",
         "x": [
          0.24228841186751363,
          -0.4996682706325394
         ],
         "y": [
          -0.09428175592468697,
          -0.20085590364539724
         ]
        },
        {
         "hoverinfo": "none",
         "line": {
          "color": "#7793a5",
          "dash": "dot",
          "width": 1
         },
         "mode": "lines",
         "type": "scatter",
         "x": [
          0.24228841186751363,
          -0.45128993957818053
         ],
         "y": [
          -0.09428175592468697,
          0.05850208608043955
         ]
        },
        {
         "hoverinfo": "none",
         "line": {
          "color": "#7793a5",
          "dash": "dot",
          "width": 1
         },
         "mode": "lines",
         "type": "scatter",
         "x": [
          0.24228841186751363,
          0.8175090087961129
         ],
         "y": [
          -0.09428175592468697,
          -0.46123426501775866
         ]
        },
        {
         "hoverinfo": "none",
         "line": {
          "color": "#7793a5",
          "dash": "dot",
          "width": 1
         },
         "mode": "lines",
         "type": "scatter",
         "x": [
          0.24228841186751363,
          0.7134709583353612
         ],
         "y": [
          -0.09428175592468697,
          -0.8168039811594249
         ]
        },
        {
         "hoverinfo": "none",
         "line": {
          "color": "#7793a5",
          "dash": "dash",
          "width": 1
         },
         "mode": "lines",
         "type": "scatter",
         "x": [
          -0.26138707187988725,
          0.008891607281970098
         ],
         "y": [
          -0.23201907118263188,
          -0.06344290952814793
         ]
        },
        {
         "hoverinfo": "none",
         "line": {
          "color": "#7793a5",
          "dash": "dot",
          "width": 1
         },
         "mode": "lines",
         "type": "scatter",
         "x": [
          -0.26138707187988725,
          0.20810312682799062
         ],
         "y": [
          -0.23201907118263188,
          0.1540533474328892
         ]
        },
        {
         "hoverinfo": "none",
         "line": {
          "color": "#7793a5",
          "dash": "dot",
          "width": 1
         },
         "mode": "lines",
         "type": "scatter",
         "x": [
          -0.26138707187988725,
          -1
         ],
         "y": [
          -0.23201907118263188,
          -0.09699587422722186
         ]
        },
        {
         "hoverinfo": "none",
         "line": {
          "color": "#7793a5",
          "dash": "dot",
          "width": 1
         },
         "mode": "lines",
         "type": "scatter",
         "x": [
          -0.26138707187988725,
          0.08641418296522507
         ],
         "y": [
          -0.23201907118263188,
          0.30637201215386006
         ]
        },
        {
         "hoverinfo": "none",
         "line": {
          "color": "#7793a5",
          "dash": "dot",
          "width": 1
         },
         "mode": "lines",
         "type": "scatter",
         "x": [
          -0.26138707187988725,
          -0.29212066349649546
         ],
         "y": [
          -0.23201907118263188,
          -0.6870841402151037
         ]
        },
        {
         "hoverinfo": "none",
         "line": {
          "color": "#7793a5",
          "dash": "dot",
          "width": 1
         },
         "mode": "lines",
         "type": "scatter",
         "x": [
          -0.26138707187988725,
          0.8175090087961129
         ],
         "y": [
          -0.23201907118263188,
          -0.46123426501775866
         ]
        },
        {
         "hoverinfo": "none",
         "line": {
          "color": "#7793a5",
          "dash": "dot",
          "width": 1
         },
         "mode": "lines",
         "type": "scatter",
         "x": [
          -0.26138707187988725,
          0.7134709583353612
         ],
         "y": [
          -0.23201907118263188,
          -0.8168039811594249
         ]
        },
        {
         "hoverinfo": "none",
         "line": {
          "color": "#7793a5",
          "dash": "dot",
          "width": 1
         },
         "mode": "lines",
         "type": "scatter",
         "x": [
          -0.26138707187988725,
          -0.1175653780384751
         ],
         "y": [
          -0.23201907118263188,
          0.8239154761517935
         ]
        },
        {
         "hoverinfo": "none",
         "line": {
          "color": "#7793a5",
          "dash": "dot",
          "width": 1
         },
         "mode": "lines",
         "type": "scatter",
         "x": [
          0.08641418296522507,
          0.548619816657047
         ],
         "y": [
          0.30637201215386006,
          0.7623538068826216
         ]
        },
        {
         "hoverinfo": "none",
         "line": {
          "color": "#7793a5",
          "dash": "dot",
          "width": 1
         },
         "mode": "lines",
         "type": "scatter",
         "x": [
          0.08641418296522507,
          0.008891607281970098
         ],
         "y": [
          0.30637201215386006,
          -0.06344290952814793
         ]
        },
        {
         "hoverinfo": "none",
         "line": {
          "color": "#7793a5",
          "dash": "dot",
          "width": 1
         },
         "mode": "lines",
         "type": "scatter",
         "x": [
          0.08641418296522507,
          -0.45128993957818053
         ],
         "y": [
          0.30637201215386006,
          0.05850208608043955
         ]
        },
        {
         "hoverinfo": "none",
         "line": {
          "color": "#7793a5",
          "dash": "dot",
          "width": 1
         },
         "mode": "lines",
         "type": "scatter",
         "x": [
          0.08641418296522507,
          -0.4996682706325394
         ],
         "y": [
          0.30637201215386006,
          -0.20085590364539724
         ]
        },
        {
         "hoverinfo": "none",
         "line": {
          "color": "#7793a5",
          "dash": "dot",
          "width": 1
         },
         "mode": "lines",
         "type": "scatter",
         "x": [
          0.08641418296522507,
          -0.1175653780384751
         ],
         "y": [
          0.30637201215386006,
          0.8239154761517935
         ]
        },
        {
         "hoverinfo": "none",
         "line": {
          "color": "#7793a5",
          "dash": "dot",
          "width": 1
         },
         "mode": "lines",
         "type": "scatter",
         "x": [
          0.08641418296522507,
          -0.29212066349649546
         ],
         "y": [
          0.30637201215386006,
          -0.6870841402151037
         ]
        },
        {
         "hoverinfo": "none",
         "line": {
          "color": "#7793a5",
          "dash": "dot",
          "width": 1
         },
         "mode": "lines",
         "type": "scatter",
         "x": [
          0.08641418296522507,
          -1
         ],
         "y": [
          0.30637201215386006,
          -0.09699587422722186
         ]
        },
        {
         "hoverinfo": "none",
         "line": {
          "color": "#7793a5",
          "dash": "dot",
          "width": 1
         },
         "mode": "lines",
         "type": "scatter",
         "x": [
          0.20810312682799062,
          0.548619816657047
         ],
         "y": [
          0.1540533474328892,
          0.7623538068826216
         ]
        },
        {
         "hoverinfo": "none",
         "line": {
          "color": "#7793a5",
          "dash": "dot",
          "width": 1
         },
         "mode": "lines",
         "type": "scatter",
         "x": [
          0.20810312682799062,
          0.008891607281970098
         ],
         "y": [
          0.1540533474328892,
          -0.06344290952814793
         ]
        },
        {
         "hoverinfo": "none",
         "line": {
          "color": "#7793a5",
          "dash": "dot",
          "width": 1
         },
         "mode": "lines",
         "type": "scatter",
         "x": [
          0.20810312682799062,
          -0.45128993957818053
         ],
         "y": [
          0.1540533474328892,
          0.05850208608043955
         ]
        },
        {
         "hoverinfo": "none",
         "line": {
          "color": "#7793a5",
          "dash": "dot",
          "width": 1
         },
         "mode": "lines",
         "type": "scatter",
         "x": [
          0.20810312682799062,
          -0.4996682706325394
         ],
         "y": [
          0.1540533474328892,
          -0.20085590364539724
         ]
        },
        {
         "hoverinfo": "none",
         "line": {
          "color": "#7793a5",
          "dash": "dot",
          "width": 1
         },
         "mode": "lines",
         "type": "scatter",
         "x": [
          0.20810312682799062,
          -0.29212066349649546
         ],
         "y": [
          0.1540533474328892,
          -0.6870841402151037
         ]
        },
        {
         "hoverinfo": "none",
         "line": {
          "color": "#7793a5",
          "dash": "dot",
          "width": 1
         },
         "mode": "lines",
         "type": "scatter",
         "x": [
          0.20810312682799062,
          -0.1175653780384751
         ],
         "y": [
          0.1540533474328892,
          0.8239154761517935
         ]
        },
        {
         "hoverinfo": "none",
         "line": {
          "color": "#7793a5",
          "dash": "dot",
          "width": 1
         },
         "mode": "lines",
         "type": "scatter",
         "x": [
          0.20810312682799062,
          -1
         ],
         "y": [
          0.1540533474328892,
          -0.09699587422722186
         ]
        },
        {
         "hoverinfo": "none",
         "line": {
          "color": "#7793a5",
          "dash": "dot",
          "width": 1
         },
         "mode": "lines",
         "type": "scatter",
         "x": [
          0.20810312682799062,
          0.8175090087961129
         ],
         "y": [
          0.1540533474328892,
          -0.46123426501775866
         ]
        },
        {
         "hoverinfo": "none",
         "line": {
          "color": "#7793a5",
          "dash": "dot",
          "width": 1
         },
         "mode": "lines",
         "type": "scatter",
         "x": [
          0.20810312682799062,
          0.7134709583353612
         ],
         "y": [
          0.1540533474328892,
          -0.8168039811594249
         ]
        },
        {
         "hoverinfo": "none",
         "line": {
          "color": "#7793a5",
          "dash": "dot",
          "width": 1
         },
         "mode": "lines",
         "type": "scatter",
         "x": [
          -0.45128993957818053,
          -1
         ],
         "y": [
          0.05850208608043955,
          -0.09699587422722186
         ]
        },
        {
         "hoverinfo": "none",
         "line": {
          "color": "#7793a5",
          "dash": "dot",
          "width": 1
         },
         "mode": "lines",
         "type": "scatter",
         "x": [
          -0.45128993957818053,
          0.008891607281970098
         ],
         "y": [
          0.05850208608043955,
          -0.06344290952814793
         ]
        },
        {
         "hoverinfo": "none",
         "line": {
          "color": "#7793a5",
          "dash": "dot",
          "width": 1
         },
         "mode": "lines",
         "type": "scatter",
         "x": [
          -0.45128993957818053,
          -0.29212066349649546
         ],
         "y": [
          0.05850208608043955,
          -0.6870841402151037
         ]
        },
        {
         "hoverinfo": "none",
         "line": {
          "color": "#7793a5",
          "dash": "dot",
          "width": 1
         },
         "mode": "lines",
         "type": "scatter",
         "x": [
          -0.45128993957818053,
          0.8175090087961129
         ],
         "y": [
          0.05850208608043955,
          -0.46123426501775866
         ]
        },
        {
         "hoverinfo": "none",
         "line": {
          "color": "#7793a5",
          "dash": "dot",
          "width": 1
         },
         "mode": "lines",
         "type": "scatter",
         "x": [
          -0.45128993957818053,
          -0.1175653780384751
         ],
         "y": [
          0.05850208608043955,
          0.8239154761517935
         ]
        },
        {
         "hoverinfo": "none",
         "line": {
          "color": "#7793a5",
          "dash": "dot",
          "width": 1
         },
         "mode": "lines",
         "type": "scatter",
         "x": [
          -0.45128993957818053,
          0.7134709583353612
         ],
         "y": [
          0.05850208608043955,
          -0.8168039811594249
         ]
        },
        {
         "hoverinfo": "none",
         "line": {
          "color": "#7793a5",
          "dash": "dash",
          "width": 1
         },
         "mode": "lines",
         "type": "scatter",
         "x": [
          -0.4996682706325394,
          -0.29212066349649546
         ],
         "y": [
          -0.20085590364539724,
          -0.6870841402151037
         ]
        },
        {
         "hoverinfo": "none",
         "line": {
          "color": "#7793a5",
          "dash": "dot",
          "width": 1
         },
         "mode": "lines",
         "type": "scatter",
         "x": [
          -0.4996682706325394,
          0.008891607281970098
         ],
         "y": [
          -0.20085590364539724,
          -0.06344290952814793
         ]
        },
        {
         "hoverinfo": "none",
         "line": {
          "color": "#7793a5",
          "dash": "dot",
          "width": 1
         },
         "mode": "lines",
         "type": "scatter",
         "x": [
          -0.4996682706325394,
          -1
         ],
         "y": [
          -0.20085590364539724,
          -0.09699587422722186
         ]
        },
        {
         "hoverinfo": "none",
         "line": {
          "color": "#7793a5",
          "dash": "dot",
          "width": 1
         },
         "mode": "lines",
         "type": "scatter",
         "x": [
          -0.4996682706325394,
          -0.1175653780384751
         ],
         "y": [
          -0.20085590364539724,
          0.8239154761517935
         ]
        },
        {
         "hoverinfo": "none",
         "line": {
          "color": "#7793a5",
          "dash": "dot",
          "width": 1
         },
         "mode": "lines",
         "type": "scatter",
         "x": [
          -0.4996682706325394,
          0.8175090087961129
         ],
         "y": [
          -0.20085590364539724,
          -0.46123426501775866
         ]
        },
        {
         "hoverinfo": "none",
         "line": {
          "color": "#7793a5",
          "dash": "dot",
          "width": 1
         },
         "mode": "lines",
         "type": "scatter",
         "x": [
          -0.4996682706325394,
          0.7134709583353612
         ],
         "y": [
          -0.20085590364539724,
          -0.8168039811594249
         ]
        },
        {
         "hoverinfo": "none",
         "line": {
          "color": "#7793a5",
          "dash": "dot",
          "width": 1
         },
         "mode": "lines",
         "type": "scatter",
         "x": [
          0.246398899865039,
          0.548619816657047
         ],
         "y": [
          0.8972768453434904,
          0.7623538068826216
         ]
        },
        {
         "hoverinfo": "none",
         "line": {
          "color": "#7793a5",
          "dash": "dot",
          "width": 1
         },
         "mode": "lines",
         "type": "scatter",
         "x": [
          0.246398899865039,
          -0.1175653780384751
         ],
         "y": [
          0.8972768453434904,
          0.8239154761517935
         ]
        },
        {
         "hoverinfo": "none",
         "line": {
          "color": "#7793a5",
          "dash": "dash",
          "width": 1
         },
         "mode": "lines",
         "type": "scatter",
         "x": [
          0.548619816657047,
          -0.1175653780384751
         ],
         "y": [
          0.7623538068826216,
          0.8239154761517935
         ]
        },
        {
         "hoverinfo": "none",
         "line": {
          "color": "#7793a5",
          "dash": "dot",
          "width": 1
         },
         "mode": "lines",
         "type": "scatter",
         "x": [
          0.548619816657047,
          0.008891607281970098
         ],
         "y": [
          0.7623538068826216,
          -0.06344290952814793
         ]
        },
        {
         "hoverinfo": "none",
         "line": {
          "color": "#7793a5",
          "dash": "dot",
          "width": 1
         },
         "mode": "lines",
         "type": "scatter",
         "x": [
          0.008891607281970098,
          -0.1175653780384751
         ],
         "y": [
          -0.06344290952814793,
          0.8239154761517935
         ]
        },
        {
         "hoverinfo": "none",
         "line": {
          "color": "#7793a5",
          "dash": "dot",
          "width": 1
         },
         "mode": "lines",
         "type": "scatter",
         "x": [
          0.008891607281970098,
          -0.29212066349649546
         ],
         "y": [
          -0.06344290952814793,
          -0.6870841402151037
         ]
        },
        {
         "hoverinfo": "none",
         "line": {
          "color": "#7793a5",
          "dash": "dot",
          "width": 1
         },
         "mode": "lines",
         "type": "scatter",
         "x": [
          0.008891607281970098,
          -1
         ],
         "y": [
          -0.06344290952814793,
          -0.09699587422722186
         ]
        },
        {
         "hoverinfo": "none",
         "line": {
          "color": "#7793a5",
          "dash": "dot",
          "width": 1
         },
         "mode": "lines",
         "type": "scatter",
         "x": [
          0.008891607281970098,
          0.8175090087961129
         ],
         "y": [
          -0.06344290952814793,
          -0.46123426501775866
         ]
        },
        {
         "hoverinfo": "none",
         "line": {
          "color": "#7793a5",
          "dash": "dot",
          "width": 1
         },
         "mode": "lines",
         "type": "scatter",
         "x": [
          0.008891607281970098,
          0.7134709583353612
         ],
         "y": [
          -0.06344290952814793,
          -0.8168039811594249
         ]
        },
        {
         "hoverinfo": "none",
         "line": {
          "color": "#7793a5",
          "dash": "dot",
          "width": 1
         },
         "mode": "lines",
         "type": "scatter",
         "x": [
          0.7134709583353612,
          -1
         ],
         "y": [
          -0.8168039811594249,
          -0.09699587422722186
         ]
        },
        {
         "hoverinfo": "none",
         "line": {
          "color": "#7793a5",
          "dash": "dot",
          "width": 1
         },
         "mode": "lines",
         "type": "scatter",
         "x": [
          -0.29212066349649546,
          -0.1175653780384751
         ],
         "y": [
          -0.6870841402151037,
          0.8239154761517935
         ]
        },
        {
         "hoverinfo": "none",
         "line": {
          "color": "#7793a5",
          "dash": "dot",
          "width": 1
         },
         "mode": "lines",
         "type": "scatter",
         "x": [
          -0.29212066349649546,
          -1
         ],
         "y": [
          -0.6870841402151037,
          -0.09699587422722186
         ]
        },
        {
         "hoverinfo": "none",
         "line": {
          "color": "#7793a5",
          "dash": "dot",
          "width": 1
         },
         "mode": "lines",
         "type": "scatter",
         "x": [
          -1,
          0.8175090087961129
         ],
         "y": [
          -0.09699587422722186,
          -0.46123426501775866
         ]
        },
        {
         "hoverinfo": "none",
         "line": {
          "color": "#7793a5",
          "dash": "solid",
          "width": 2
         },
         "mode": "lines",
         "type": "scatter",
         "x": [
          -0.15824488227712552,
          -0.26138707187988725
         ],
         "y": [
          0.06237283299538612,
          -0.23201907118263188
         ]
        },
        {
         "hoverinfo": "none",
         "line": {
          "color": "#7793a5",
          "dash": "solid",
          "width": 2
         },
         "mode": "lines",
         "type": "scatter",
         "x": [
          -0.15824488227712552,
          0.24228841186751363
         ],
         "y": [
          0.06237283299538612,
          -0.09428175592468697
         ]
        },
        {
         "hoverinfo": "none",
         "line": {
          "color": "#7793a5",
          "dash": "solid",
          "width": 2
         },
         "mode": "lines",
         "type": "scatter",
         "x": [
          -0.15824488227712552,
          -0.45128993957818053
         ],
         "y": [
          0.06237283299538612,
          0.05850208608043955
         ]
        },
        {
         "hoverinfo": "none",
         "line": {
          "color": "#7793a5",
          "dash": "solid",
          "width": 2
         },
         "mode": "lines",
         "type": "scatter",
         "x": [
          -0.15824488227712552,
          -0.4996682706325394
         ],
         "y": [
          0.06237283299538612,
          -0.20085590364539724
         ]
        },
        {
         "hoverinfo": "none",
         "line": {
          "color": "#7793a5",
          "dash": "solid",
          "width": 2
         },
         "mode": "lines",
         "type": "scatter",
         "x": [
          0.246398899865039,
          0.6314312901618069
         ],
         "y": [
          0.8972768453434904,
          0.4012961044037017
         ]
        },
        {
         "hoverinfo": "none",
         "line": {
          "color": "#7793a5",
          "dash": "solid",
          "width": 2
         },
         "mode": "lines",
         "type": "scatter",
         "x": [
          0.7134709583353612,
          0.8175090087961129
         ],
         "y": [
          -0.8168039811594249,
          -0.46123426501775866
         ]
        },
        {
         "hoverinfo": "none",
         "line": {
          "color": "#7793a5",
          "dash": "solid",
          "width": 3
         },
         "mode": "lines",
         "type": "scatter",
         "x": [
          -0.15824488227712552,
          0.20810312682799062
         ],
         "y": [
          0.06237283299538612,
          0.1540533474328892
         ]
        },
        {
         "hoverinfo": "none",
         "line": {
          "color": "#7793a5",
          "dash": "solid",
          "width": 3
         },
         "mode": "lines",
         "type": "scatter",
         "x": [
          -0.15824488227712552,
          0.08641418296522507
         ],
         "y": [
          0.06237283299538612,
          0.30637201215386006
         ]
        },
        {
         "hoverinfo": "none",
         "line": {
          "color": "#7793a5",
          "dash": "solid",
          "width": 3
         },
         "mode": "lines",
         "type": "scatter",
         "x": [
          0.24228841186751363,
          0.20810312682799062
         ],
         "y": [
          -0.09428175592468697,
          0.1540533474328892
         ]
        },
        {
         "hoverinfo": "none",
         "line": {
          "color": "#7793a5",
          "dash": "solid",
          "width": 3
         },
         "mode": "lines",
         "type": "scatter",
         "x": [
          0.24228841186751363,
          0.08641418296522507
         ],
         "y": [
          -0.09428175592468697,
          0.30637201215386006
         ]
        },
        {
         "hoverinfo": "none",
         "line": {
          "color": "#7793a5",
          "dash": "solid",
          "width": 3
         },
         "mode": "lines",
         "type": "scatter",
         "x": [
          -0.26138707187988725,
          -0.45128993957818053
         ],
         "y": [
          -0.23201907118263188,
          0.05850208608043955
         ]
        },
        {
         "hoverinfo": "none",
         "line": {
          "color": "#7793a5",
          "dash": "solid",
          "width": 3
         },
         "mode": "lines",
         "type": "scatter",
         "x": [
          -0.26138707187988725,
          -0.4996682706325394
         ],
         "y": [
          -0.23201907118263188,
          -0.20085590364539724
         ]
        },
        {
         "hoverinfo": "none",
         "line": {
          "color": "#7793a5",
          "dash": "solid",
          "width": 3
         },
         "mode": "lines",
         "type": "scatter",
         "x": [
          0.08641418296522507,
          0.20810312682799062
         ],
         "y": [
          0.30637201215386006,
          0.1540533474328892
         ]
        },
        {
         "hoverinfo": "none",
         "line": {
          "color": "#7793a5",
          "dash": "solid",
          "width": 3
         },
         "mode": "lines",
         "type": "scatter",
         "x": [
          -0.45128993957818053,
          -0.4996682706325394
         ],
         "y": [
          0.05850208608043955,
          -0.20085590364539724
         ]
        },
        {
         "hoverinfo": "text",
         "marker": {
          "color": [
           "#7793a5",
           "#7793a5",
           "#7793a5",
           "#7793a5",
           "#7793a5",
           "#7793a5",
           "#7793a5",
           "#7793a5",
           "#7793a5",
           "#7793a5",
           "#7793a5",
           "#7793a5",
           "#7793a5",
           "#7793a5",
           "#7793a5",
           "#7793a5",
           "#7793a5"
          ],
          "line": {
           "color": "white",
           "width": 1.5
          },
          "opacity": 1,
          "size": [
           60,
           52.53731343283582,
           33.88059701492537,
           21.19402985074627,
           20.44776119402985,
           19.701492537313435,
           19.701492537313435,
           15.223880597014926,
           14.477611940298507,
           13.731343283582088,
           12.985074626865671,
           11.492537313432836,
           11.492537313432836,
           10.746268656716417,
           10.746268656716417,
           10,
           10
          ]
         },
         "mode": "markers",
         "text": [
          "Social Sciences 68:1526",
          "Engineering 58:1230",
          "Environmental Science 33:0613",
          "Business, Management and Accounting 16:0302",
          "Decision Sciences 15:0438",
          "Energy 14:0206",
          "Computer Science 14:0070",
          "Medicine 08:0137",
          "Economics, Econometrics and Finance 07:0086",
          "Psychology 06:0056",
          "Earth and Planetary Sciences 05:0138",
          "Materials Science 03:0020",
          "Arts and Humanities 03:0003",
          "General 02:0055",
          "Mathematics 02:0008",
          "Health Professions 01:0009",
          "Agricultural and Biological Sciences 01:0001"
         ],
         "type": "scatter",
         "x": [
          -0.15824488227712552,
          0.24228841186751363,
          -0.26138707187988725,
          0.08641418296522507,
          0.20810312682799062,
          -0.45128993957818053,
          -0.4996682706325394,
          0.246398899865039,
          0.548619816657047,
          0.008891607281970098,
          0.7134709583353612,
          -0.29212066349649546,
          -0.1175653780384751,
          -0.7228510968553633,
          -1,
          0.6314312901618069,
          0.8175090087961129
         ],
         "y": [
          0.06237283299538612,
          -0.09428175592468697,
          -0.23201907118263188,
          0.30637201215386006,
          0.1540533474328892,
          0.05850208608043955,
          -0.20085590364539724,
          0.8972768453434904,
          0.7623538068826216,
          -0.06344290952814793,
          -0.8168039811594249,
          -0.6870841402151037,
          0.8239154761517935,
          -0.8134246105438095,
          -0.09699587422722186,
          0.4012961044037017,
          -0.46123426501775866
         ]
        }
       ],
       "layout": {
        "annotations": [
         {
          "align": "left",
          "font": {
           "size": 10
          },
          "showarrow": false,
          "text": "",
          "x": 0.005,
          "xref": "paper",
          "y": -0.002,
          "yref": "paper"
         },
         {
          "bgcolor": "white",
          "bordercolor": "grey",
          "font": {
           "size": 8
          },
          "opacity": 0.7071067811865476,
          "showarrow": false,
          "text": "Agricultural and Biological Sciences 01:0001",
          "x": 0.8175090087961129,
          "xanchor": "left",
          "xshift": 4,
          "y": -0.46123426501775866,
          "yanchor": "top",
          "yshift": -4
         },
         {
          "bgcolor": "white",
          "bordercolor": "grey",
          "font": {
           "size": 8
          },
          "opacity": 0.7071067811865476,
          "showarrow": false,
          "text": "Health Professions 01:0009",
          "x": 0.6314312901618069,
          "xanchor": "left",
          "xshift": 4,
          "y": 0.4012961044037017,
          "yanchor": "bottom",
          "yshift": 4
         },
         {
          "bgcolor": "white",
          "bordercolor": "grey",
          "font": {
           "size": 8.074626865671641
          },
          "opacity": 0.7123641530615955,
          "showarrow": false,
          "text": "Mathematics 02:0008",
          "x": -1,
          "xanchor": "right",
          "xshift": -4,
          "y": -0.09699587422722186,
          "yanchor": "top",
          "yshift": -4
         },
         {
          "bgcolor": "white",
          "bordercolor": "grey",
          "font": {
           "size": 8.074626865671641
          },
          "opacity": 0.7123641530615955,
          "showarrow": false,
          "text": "General 02:0055",
          "x": -0.7228510968553633,
          "xanchor": "right",
          "xshift": -4,
          "y": -0.8134246105438095,
          "yanchor": "top",
          "yshift": -4
         },
         {
          "bgcolor": "white",
          "bordercolor": "grey",
          "font": {
           "size": 8.149253731343283
          },
          "opacity": 0.7175830078355593,
          "showarrow": false,
          "text": "Arts and Humanities 03:0003",
          "x": -0.1175653780384751,
          "xanchor": "right",
          "xshift": -4,
          "y": 0.8239154761517935,
          "yanchor": "bottom",
          "yshift": 4
         },
         {
          "bgcolor": "white",
          "bordercolor": "grey",
          "font": {
           "size": 8.149253731343283
          },
          "opacity": 0.7175830078355593,
          "showarrow": false,
          "text": "Materials Science 03:0020",
          "x": -0.29212066349649546,
          "xanchor": "right",
          "xshift": -4,
          "y": -0.6870841402151037,
          "yanchor": "top",
          "yshift": -4
         },
         {
          "bgcolor": "white",
          "bordercolor": "grey",
          "font": {
           "size": 8.298507462686567
          },
          "opacity": 0.7279084738266596,
          "showarrow": false,
          "text": "Earth and Planetary Sciences 05:0138",
          "x": 0.7134709583353612,
          "xanchor": "left",
          "xshift": 4,
          "y": -0.8168039811594249,
          "yanchor": "top",
          "yshift": -4
         },
         {
          "bgcolor": "white",
          "bordercolor": "grey",
          "font": {
           "size": 8.373134328358208
          },
          "opacity": 0.7330166661378313,
          "showarrow": false,
          "text": "Psychology 06:0056",
          "x": 0.008891607281970098,
          "xanchor": "left",
          "xshift": 4,
          "y": -0.06344290952814793,
          "yanchor": "top",
          "yshift": -4
         },
         {
          "bgcolor": "white",
          "bordercolor": "grey",
          "font": {
           "size": 8.447761194029852
          },
          "opacity": 0.73808950636287,
          "showarrow": false,
          "text": "Economics, Econometrics and Finance 07:0086",
          "x": 0.548619816657047,
          "xanchor": "left",
          "xshift": 4,
          "y": 0.7623538068826216,
          "yanchor": "bottom",
          "yshift": 4
         },
         {
          "bgcolor": "white",
          "bordercolor": "grey",
          "font": {
           "size": 8.522388059701493
          },
          "opacity": 0.7431277184778867,
          "showarrow": false,
          "text": "Medicine 08:0137",
          "x": 0.246398899865039,
          "xanchor": "left",
          "xshift": 4,
          "y": 0.8972768453434904,
          "yanchor": "bottom",
          "yshift": 4
         },
         {
          "bgcolor": "white",
          "bordercolor": "grey",
          "font": {
           "size": 8.970149253731343
          },
          "opacity": 0.7726674092862558,
          "showarrow": false,
          "text": "Computer Science 14:0070",
          "x": -0.4996682706325394,
          "xanchor": "right",
          "xshift": -4,
          "y": -0.20085590364539724,
          "yanchor": "top",
          "yshift": -4
         },
         {
          "bgcolor": "white",
          "bordercolor": "grey",
          "font": {
           "size": 8.970149253731343
          },
          "opacity": 0.7726674092862558,
          "showarrow": false,
          "text": "Energy 14:0206",
          "x": -0.45128993957818053,
          "xanchor": "right",
          "xshift": -4,
          "y": 0.05850208608043955,
          "yanchor": "bottom",
          "yshift": 4
         },
         {
          "bgcolor": "white",
          "bordercolor": "grey",
          "font": {
           "size": 9.044776119402986
          },
          "opacity": 0.7774815830232241,
          "showarrow": false,
          "text": "Decision Sciences 15:0438",
          "x": 0.20810312682799062,
          "xanchor": "left",
          "xshift": 4,
          "y": 0.1540533474328892,
          "yanchor": "bottom",
          "yshift": 4
         },
         {
          "bgcolor": "white",
          "bordercolor": "grey",
          "font": {
           "size": 9.119402985074627
          },
          "opacity": 0.7822661302315617,
          "showarrow": false,
          "text": "Business, Management and Accounting 16:0302",
          "x": 0.08641418296522507,
          "xanchor": "left",
          "xshift": 4,
          "y": 0.30637201215386006,
          "yanchor": "bottom",
          "yshift": 4
         },
         {
          "bgcolor": "white",
          "bordercolor": "grey",
          "font": {
           "size": 10.388059701492537
          },
          "opacity": 0.8595382307665284,
          "showarrow": false,
          "text": "Environmental Science 33:0613",
          "x": -0.26138707187988725,
          "xanchor": "right",
          "xshift": -4,
          "y": -0.23201907118263188,
          "yanchor": "top",
          "yshift": -4
         },
         {
          "bgcolor": "white",
          "bordercolor": "grey",
          "font": {
           "size": 12.253731343283583
          },
          "opacity": 0.9619631668251951,
          "showarrow": false,
          "text": "Engineering 58:1230",
          "x": 0.24228841186751363,
          "xanchor": "left",
          "xshift": 4,
          "y": -0.09428175592468697,
          "yanchor": "top",
          "yshift": -4
         },
         {
          "bgcolor": "white",
          "bordercolor": "grey",
          "font": {
           "size": 13
          },
          "opacity": 1,
          "showarrow": false,
          "text": "Social Sciences 68:1526",
          "x": -0.15824488227712552,
          "xanchor": "right",
          "xshift": -4,
          "y": 0.06237283299538612,
          "yanchor": "bottom",
          "yshift": 4
         }
        ],
        "font": {
         "size": 16
        },
        "height": 900,
        "hoverlabel": {
         "bgcolor": "white",
         "font": {
          "family": "monospace"
         }
        },
        "hovermode": "closest",
        "margin": {
         "b": 0,
         "l": 0,
         "r": 0,
         "t": 0
        },
        "paper_bgcolor": "white",
        "plot_bgcolor": "white",
        "showlegend": false,
        "template": {
         "data": {
          "bar": [
           {
            "error_x": {
             "color": "#2a3f5f"
            },
            "error_y": {
             "color": "#2a3f5f"
            },
            "marker": {
             "line": {
              "color": "#E5ECF6",
              "width": 0.5
             },
             "pattern": {
              "fillmode": "overlay",
              "size": 10,
              "solidity": 0.2
             }
            },
            "type": "bar"
           }
          ],
          "barpolar": [
           {
            "marker": {
             "line": {
              "color": "#E5ECF6",
              "width": 0.5
             },
             "pattern": {
              "fillmode": "overlay",
              "size": 10,
              "solidity": 0.2
             }
            },
            "type": "barpolar"
           }
          ],
          "carpet": [
           {
            "aaxis": {
             "endlinecolor": "#2a3f5f",
             "gridcolor": "white",
             "linecolor": "white",
             "minorgridcolor": "white",
             "startlinecolor": "#2a3f5f"
            },
            "baxis": {
             "endlinecolor": "#2a3f5f",
             "gridcolor": "white",
             "linecolor": "white",
             "minorgridcolor": "white",
             "startlinecolor": "#2a3f5f"
            },
            "type": "carpet"
           }
          ],
          "choropleth": [
           {
            "colorbar": {
             "outlinewidth": 0,
             "ticks": ""
            },
            "type": "choropleth"
           }
          ],
          "contour": [
           {
            "colorbar": {
             "outlinewidth": 0,
             "ticks": ""
            },
            "colorscale": [
             [
              0,
              "#0d0887"
             ],
             [
              0.1111111111111111,
              "#46039f"
             ],
             [
              0.2222222222222222,
              "#7201a8"
             ],
             [
              0.3333333333333333,
              "#9c179e"
             ],
             [
              0.4444444444444444,
              "#bd3786"
             ],
             [
              0.5555555555555556,
              "#d8576b"
             ],
             [
              0.6666666666666666,
              "#ed7953"
             ],
             [
              0.7777777777777778,
              "#fb9f3a"
             ],
             [
              0.8888888888888888,
              "#fdca26"
             ],
             [
              1,
              "#f0f921"
             ]
            ],
            "type": "contour"
           }
          ],
          "contourcarpet": [
           {
            "colorbar": {
             "outlinewidth": 0,
             "ticks": ""
            },
            "type": "contourcarpet"
           }
          ],
          "heatmap": [
           {
            "colorbar": {
             "outlinewidth": 0,
             "ticks": ""
            },
            "colorscale": [
             [
              0,
              "#0d0887"
             ],
             [
              0.1111111111111111,
              "#46039f"
             ],
             [
              0.2222222222222222,
              "#7201a8"
             ],
             [
              0.3333333333333333,
              "#9c179e"
             ],
             [
              0.4444444444444444,
              "#bd3786"
             ],
             [
              0.5555555555555556,
              "#d8576b"
             ],
             [
              0.6666666666666666,
              "#ed7953"
             ],
             [
              0.7777777777777778,
              "#fb9f3a"
             ],
             [
              0.8888888888888888,
              "#fdca26"
             ],
             [
              1,
              "#f0f921"
             ]
            ],
            "type": "heatmap"
           }
          ],
          "histogram": [
           {
            "marker": {
             "pattern": {
              "fillmode": "overlay",
              "size": 10,
              "solidity": 0.2
             }
            },
            "type": "histogram"
           }
          ],
          "histogram2d": [
           {
            "colorbar": {
             "outlinewidth": 0,
             "ticks": ""
            },
            "colorscale": [
             [
              0,
              "#0d0887"
             ],
             [
              0.1111111111111111,
              "#46039f"
             ],
             [
              0.2222222222222222,
              "#7201a8"
             ],
             [
              0.3333333333333333,
              "#9c179e"
             ],
             [
              0.4444444444444444,
              "#bd3786"
             ],
             [
              0.5555555555555556,
              "#d8576b"
             ],
             [
              0.6666666666666666,
              "#ed7953"
             ],
             [
              0.7777777777777778,
              "#fb9f3a"
             ],
             [
              0.8888888888888888,
              "#fdca26"
             ],
             [
              1,
              "#f0f921"
             ]
            ],
            "type": "histogram2d"
           }
          ],
          "histogram2dcontour": [
           {
            "colorbar": {
             "outlinewidth": 0,
             "ticks": ""
            },
            "colorscale": [
             [
              0,
              "#0d0887"
             ],
             [
              0.1111111111111111,
              "#46039f"
             ],
             [
              0.2222222222222222,
              "#7201a8"
             ],
             [
              0.3333333333333333,
              "#9c179e"
             ],
             [
              0.4444444444444444,
              "#bd3786"
             ],
             [
              0.5555555555555556,
              "#d8576b"
             ],
             [
              0.6666666666666666,
              "#ed7953"
             ],
             [
              0.7777777777777778,
              "#fb9f3a"
             ],
             [
              0.8888888888888888,
              "#fdca26"
             ],
             [
              1,
              "#f0f921"
             ]
            ],
            "type": "histogram2dcontour"
           }
          ],
          "mesh3d": [
           {
            "colorbar": {
             "outlinewidth": 0,
             "ticks": ""
            },
            "type": "mesh3d"
           }
          ],
          "parcoords": [
           {
            "line": {
             "colorbar": {
              "outlinewidth": 0,
              "ticks": ""
             }
            },
            "type": "parcoords"
           }
          ],
          "pie": [
           {
            "automargin": true,
            "type": "pie"
           }
          ],
          "scatter": [
           {
            "fillpattern": {
             "fillmode": "overlay",
             "size": 10,
             "solidity": 0.2
            },
            "type": "scatter"
           }
          ],
          "scatter3d": [
           {
            "line": {
             "colorbar": {
              "outlinewidth": 0,
              "ticks": ""
             }
            },
            "marker": {
             "colorbar": {
              "outlinewidth": 0,
              "ticks": ""
             }
            },
            "type": "scatter3d"
           }
          ],
          "scattercarpet": [
           {
            "marker": {
             "colorbar": {
              "outlinewidth": 0,
              "ticks": ""
             }
            },
            "type": "scattercarpet"
           }
          ],
          "scattergeo": [
           {
            "marker": {
             "colorbar": {
              "outlinewidth": 0,
              "ticks": ""
             }
            },
            "type": "scattergeo"
           }
          ],
          "scattergl": [
           {
            "marker": {
             "colorbar": {
              "outlinewidth": 0,
              "ticks": ""
             }
            },
            "type": "scattergl"
           }
          ],
          "scattermap": [
           {
            "marker": {
             "colorbar": {
              "outlinewidth": 0,
              "ticks": ""
             }
            },
            "type": "scattermap"
           }
          ],
          "scattermapbox": [
           {
            "marker": {
             "colorbar": {
              "outlinewidth": 0,
              "ticks": ""
             }
            },
            "type": "scattermapbox"
           }
          ],
          "scatterpolar": [
           {
            "marker": {
             "colorbar": {
              "outlinewidth": 0,
              "ticks": ""
             }
            },
            "type": "scatterpolar"
           }
          ],
          "scatterpolargl": [
           {
            "marker": {
             "colorbar": {
              "outlinewidth": 0,
              "ticks": ""
             }
            },
            "type": "scatterpolargl"
           }
          ],
          "scatterternary": [
           {
            "marker": {
             "colorbar": {
              "outlinewidth": 0,
              "ticks": ""
             }
            },
            "type": "scatterternary"
           }
          ],
          "surface": [
           {
            "colorbar": {
             "outlinewidth": 0,
             "ticks": ""
            },
            "colorscale": [
             [
              0,
              "#0d0887"
             ],
             [
              0.1111111111111111,
              "#46039f"
             ],
             [
              0.2222222222222222,
              "#7201a8"
             ],
             [
              0.3333333333333333,
              "#9c179e"
             ],
             [
              0.4444444444444444,
              "#bd3786"
             ],
             [
              0.5555555555555556,
              "#d8576b"
             ],
             [
              0.6666666666666666,
              "#ed7953"
             ],
             [
              0.7777777777777778,
              "#fb9f3a"
             ],
             [
              0.8888888888888888,
              "#fdca26"
             ],
             [
              1,
              "#f0f921"
             ]
            ],
            "type": "surface"
           }
          ],
          "table": [
           {
            "cells": {
             "fill": {
              "color": "#EBF0F8"
             },
             "line": {
              "color": "white"
             }
            },
            "header": {
             "fill": {
              "color": "#C8D4E3"
             },
             "line": {
              "color": "white"
             }
            },
            "type": "table"
           }
          ]
         },
         "layout": {
          "annotationdefaults": {
           "arrowcolor": "#2a3f5f",
           "arrowhead": 0,
           "arrowwidth": 1
          },
          "autotypenumbers": "strict",
          "coloraxis": {
           "colorbar": {
            "outlinewidth": 0,
            "ticks": ""
           }
          },
          "colorscale": {
           "diverging": [
            [
             0,
             "#8e0152"
            ],
            [
             0.1,
             "#c51b7d"
            ],
            [
             0.2,
             "#de77ae"
            ],
            [
             0.3,
             "#f1b6da"
            ],
            [
             0.4,
             "#fde0ef"
            ],
            [
             0.5,
             "#f7f7f7"
            ],
            [
             0.6,
             "#e6f5d0"
            ],
            [
             0.7,
             "#b8e186"
            ],
            [
             0.8,
             "#7fbc41"
            ],
            [
             0.9,
             "#4d9221"
            ],
            [
             1,
             "#276419"
            ]
           ],
           "sequential": [
            [
             0,
             "#0d0887"
            ],
            [
             0.1111111111111111,
             "#46039f"
            ],
            [
             0.2222222222222222,
             "#7201a8"
            ],
            [
             0.3333333333333333,
             "#9c179e"
            ],
            [
             0.4444444444444444,
             "#bd3786"
            ],
            [
             0.5555555555555556,
             "#d8576b"
            ],
            [
             0.6666666666666666,
             "#ed7953"
            ],
            [
             0.7777777777777778,
             "#fb9f3a"
            ],
            [
             0.8888888888888888,
             "#fdca26"
            ],
            [
             1,
             "#f0f921"
            ]
           ],
           "sequentialminus": [
            [
             0,
             "#0d0887"
            ],
            [
             0.1111111111111111,
             "#46039f"
            ],
            [
             0.2222222222222222,
             "#7201a8"
            ],
            [
             0.3333333333333333,
             "#9c179e"
            ],
            [
             0.4444444444444444,
             "#bd3786"
            ],
            [
             0.5555555555555556,
             "#d8576b"
            ],
            [
             0.6666666666666666,
             "#ed7953"
            ],
            [
             0.7777777777777778,
             "#fb9f3a"
            ],
            [
             0.8888888888888888,
             "#fdca26"
            ],
            [
             1,
             "#f0f921"
            ]
           ]
          },
          "colorway": [
           "#636efa",
           "#EF553B",
           "#00cc96",
           "#ab63fa",
           "#FFA15A",
           "#19d3f3",
           "#FF6692",
           "#B6E880",
           "#FF97FF",
           "#FECB52"
          ],
          "font": {
           "color": "#2a3f5f"
          },
          "geo": {
           "bgcolor": "white",
           "lakecolor": "white",
           "landcolor": "#E5ECF6",
           "showlakes": true,
           "showland": true,
           "subunitcolor": "white"
          },
          "hoverlabel": {
           "align": "left"
          },
          "hovermode": "closest",
          "mapbox": {
           "style": "light"
          },
          "paper_bgcolor": "white",
          "plot_bgcolor": "#E5ECF6",
          "polar": {
           "angularaxis": {
            "gridcolor": "white",
            "linecolor": "white",
            "ticks": ""
           },
           "bgcolor": "#E5ECF6",
           "radialaxis": {
            "gridcolor": "white",
            "linecolor": "white",
            "ticks": ""
           }
          },
          "scene": {
           "xaxis": {
            "backgroundcolor": "#E5ECF6",
            "gridcolor": "white",
            "gridwidth": 2,
            "linecolor": "white",
            "showbackground": true,
            "ticks": "",
            "zerolinecolor": "white"
           },
           "yaxis": {
            "backgroundcolor": "#E5ECF6",
            "gridcolor": "white",
            "gridwidth": 2,
            "linecolor": "white",
            "showbackground": true,
            "ticks": "",
            "zerolinecolor": "white"
           },
           "zaxis": {
            "backgroundcolor": "#E5ECF6",
            "gridcolor": "white",
            "gridwidth": 2,
            "linecolor": "white",
            "showbackground": true,
            "ticks": "",
            "zerolinecolor": "white"
           }
          },
          "shapedefaults": {
           "line": {
            "color": "#2a3f5f"
           }
          },
          "ternary": {
           "aaxis": {
            "gridcolor": "white",
            "linecolor": "white",
            "ticks": ""
           },
           "baxis": {
            "gridcolor": "white",
            "linecolor": "white",
            "ticks": ""
           },
           "bgcolor": "#E5ECF6",
           "caxis": {
            "gridcolor": "white",
            "linecolor": "white",
            "ticks": ""
           }
          },
          "title": {
           "x": 0.05
          },
          "xaxis": {
           "automargin": true,
           "gridcolor": "white",
           "linecolor": "white",
           "ticks": "",
           "title": {
            "standoff": 15
           },
           "zerolinecolor": "white",
           "zerolinewidth": 2
          },
          "yaxis": {
           "automargin": true,
           "gridcolor": "white",
           "linecolor": "white",
           "ticks": "",
           "title": {
            "standoff": 15
           },
           "zerolinecolor": "white",
           "zerolinewidth": 2
          }
         }
        },
        "title": {
         "text": ""
        },
        "width": 1000,
        "xaxis": {
         "range": [
          null,
          null
         ],
         "showgrid": false,
         "showticklabels": false,
         "zeroline": false
        },
        "yaxis": {
         "range": [
          null,
          null
         ],
         "showgrid": false,
         "showticklabels": false,
         "zeroline": false
        }
       }
      }
     },
     "metadata": {},
     "output_type": "display_data"
    }
   ],
   "source": [
    "# grey colors: https://www.w3schools.com/colors/colors_shades.asp\n",
    "from techminer2.packages.correlation.cross import NetworkMapPlot  # type: ignore\n",
    "\n",
    "plot = (\n",
    "    NetworkMapPlot()\n",
    "    #\n",
    "    # FIELD:\n",
    "    .with_field(\"subject_areas\")\n",
    "    .having_terms_in_top(None)\n",
    "    .having_terms_ordered_by(\"OCC\")\n",
    "    .having_term_occurrences_between(None, None)\n",
    "    .having_term_citations_between(None, None)\n",
    "    .having_terms_in(None)\n",
    "    #\n",
    "    # CROSS WITH:\n",
    "    .with_other_field(\"raw_source_title\")\n",
    "    #\n",
    "    .with_correlation_method(\"pearson\")\n",
    "    #\n",
    "    # NETWORK:\n",
    "    .using_spring_layout_k(0.7)\n",
    "    .using_spring_layout_iterations(60)\n",
    "    .using_spring_layout_seed(2)\n",
    "    #\n",
    "    .using_edge_colors([\"#7793a5\", \"#7793a5\", \"#7793a5\", \"#7793a5\"])\n",
    "    .using_edge_similarity_threshold(0)\n",
    "    .using_edge_top_n(None)\n",
    "    .using_edge_widths([1, 1, 2, 3])\n",
    "    #\n",
    "    .using_node_colors([\"#7793a5\"])\n",
    "    .using_node_size_range(10, 50)\n",
    "    #\n",
    "    .using_textfont_opacity_range(0.5, 1.0)\n",
    "    .using_textfont_size_range(8, 13)\n",
    "    #\n",
    "    .using_xaxes_range(None, None)\n",
    "    .using_yaxes_range(None, None)\n",
    "    .using_axes_visible(False)\n",
    "    #\n",
    "    # DATABASE:\n",
    "    .where_root_directory_is(\"../\")\n",
    "    .where_database_is(\"main\")\n",
    "    .where_record_years_range_is(None, None)\n",
    "    .where_record_citations_range_is(None, None)\n",
    "    .where_records_match(None)\n",
    "    #\n",
    "    .run()\n",
    ").update_layout(width=1000, height=900)\n",
    "plot.write_html(\"../reports/subject_areas.html\")\n",
    "plot\n"
   ]
  }
 ],
 "metadata": {
  "kernelspec": {
   "display_name": ".venv",
   "language": "python",
   "name": "python3"
  },
  "language_info": {
   "codemirror_mode": {
    "name": "ipython",
    "version": 3
   },
   "file_extension": ".py",
   "mimetype": "text/x-python",
   "name": "python",
   "nbconvert_exporter": "python",
   "pygments_lexer": "ipython3",
   "version": "3.9.6"
  }
 },
 "nbformat": 4,
 "nbformat_minor": 2
}
